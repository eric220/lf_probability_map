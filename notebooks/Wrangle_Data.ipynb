{
 "cells": [
  {
   "cell_type": "code",
   "execution_count": 1,
   "metadata": {
    "collapsed": true
   },
   "outputs": [],
   "source": [
    "import matplotlib.pyplot as plt\n",
    "import geopandas as gpd\n",
    "import numpy as np\n",
    "import pandas as pd\n",
    "from shapely.geometry import Polygon, LineString, Point\n",
    "from collections import Counter"
   ]
  },
  {
   "cell_type": "code",
   "execution_count": 2,
   "metadata": {
    "collapsed": true
   },
   "outputs": [],
   "source": [
    "#ref 1\n",
    "df_stj = gpd.read_file('../data/raw/E95-St_Thomas_John_benthic Map_Shapefile/stsj_fin.shp')\n",
    "df_pr = gpd.read_file('../data/raw/E95-Puerto_Rico_benthic habitat Map_Shapefile')\n",
    "df_stc = gpd.read_file('../data/raw/E95-St_Croix_benthic habitat Map_Shapefile')#.set_index('POLYGONID')"
   ]
  },
  {
   "cell_type": "code",
   "execution_count": 3,
   "metadata": {},
   "outputs": [
    {
     "name": "stdout",
     "output_type": "stream",
     "text": [
      "(1301, 11)\n",
      "(5288, 12)\n",
      "(1184, 11)\n"
     ]
    }
   ],
   "source": [
    "print(df_stj.shape)\n",
    "print(df_pr.shape)\n",
    "print(df_stc.shape)"
   ]
  },
  {
   "cell_type": "code",
   "execution_count": 4,
   "metadata": {},
   "outputs": [
    {
     "name": "stdout",
     "output_type": "stream",
     "text": [
      "Index(['POLYGONID', 'AREA', 'ID', 'DESCRIPTOR', 'ZONE', 'HABITAT', 'TYPE',\n",
      "       'MODIFIER1', 'MODIFIER2', 'MODIFIER3', 'geometry'],\n",
      "      dtype='object')\n",
      "Index(['POLYGONID', 'AREA', 'ID', 'DESCRIPTOR', 'ZONE', 'HABITAT', 'TYPE',\n",
      "       'MODIFIER1', 'MODIFIER2', 'MODIFIER3', 'REPRESENTA', 'geometry'],\n",
      "      dtype='object')\n",
      "Index(['POLYGONID', 'AREA', 'ID', 'DESCRIPTOR', 'ZONE', 'HABITAT', 'TYPE',\n",
      "       'MODIFIER1', 'MODIFIER2', 'MODIFIER3', 'geometry'],\n",
      "      dtype='object')\n"
     ]
    }
   ],
   "source": [
    "print(df_stj.columns)\n",
    "print(df_pr.columns)\n",
    "print(df_stc.columns)"
   ]
  },
  {
   "cell_type": "code",
   "execution_count": 5,
   "metadata": {},
   "outputs": [
    {
     "name": "stdout",
     "output_type": "stream",
     "text": [
      "[None]\n"
     ]
    }
   ],
   "source": [
    "#Drop extra pr column\n",
    "print(df_pr['REPRESENTA'].unique())\n",
    "df_pr.drop('REPRESENTA', axis = 1, inplace = True)"
   ]
  },
  {
   "cell_type": "code",
   "execution_count": 6,
   "metadata": {
    "collapsed": true
   },
   "outputs": [],
   "source": [
    "#add polygon id as feature\n",
    "df_pr['polyid'] = ['PR_{}' .format(i) for i in df_pr['POLYGONID']]\n",
    "df_stj['polyid'] = ['STJ_{}' .format(i) for i in df_stj['POLYGONID']]\n",
    "df_stc['polyid'] = ['STC_{}' .format(i) for i in df_stc['POLYGONID']]"
   ]
  },
  {
   "cell_type": "code",
   "execution_count": 7,
   "metadata": {},
   "outputs": [
    {
     "data": {
      "text/plain": [
       "(7773, 12)"
      ]
     },
     "execution_count": 7,
     "metadata": {},
     "output_type": "execute_result"
    }
   ],
   "source": [
    "#PR and USVI dataframe concat\n",
    "frames = [df_stj, df_pr, df_stc]\n",
    "df_combined = pd.concat(frames)\n",
    "df_combined.shape"
   ]
  },
  {
   "cell_type": "code",
   "execution_count": 8,
   "metadata": {
    "collapsed": true
   },
   "outputs": [],
   "source": [
    "#save file with geodata\n",
    "df_combined.drop(['ID', 'POLYGONID', 'MODIFIER1', 'MODIFIER2', 'MODIFIER3'], axis = 1, inplace = True)\n",
    "df_combined.to_file(\"../data/processed/with_land_df.shp\")"
   ]
  },
  {
   "cell_type": "code",
   "execution_count": 18,
   "metadata": {},
   "outputs": [
    {
     "name": "stdout",
     "output_type": "stream",
     "text": [
      "              AREA DESCRIPTOR          ZONE             HABITAT     TYPE  \\\n",
      "1234  1.272646e+06    Unknown  Unclassified  Other Delineations  Unknown   \n",
      "1295  3.287270e+08    Unknown  Unclassified  Other Delineations  Unknown   \n",
      "858   3.066965e+05    Unknown  Unclassified  Other Delineations  Unknown   \n",
      "893   1.775990e+06    Unknown  Unclassified  Other Delineations  Unknown   \n",
      "919   5.356256e+05    Unknown  Unclassified  Other Delineations  Unknown   \n",
      "\n",
      "                                               geometry    polyid  \n",
      "1234  POLYGON ((-64.91207 18.26981, -64.91196 18.270...  STJ_1235  \n",
      "1295  MULTIPOLYGON (((-64.95861 18.32100, -64.95882 ...  STJ_1296  \n",
      "858   POLYGON ((-65.36747 18.10804, -65.36750 18.108...    PR_859  \n",
      "893   POLYGON ((-65.41597 18.10542, -65.41596 18.105...    PR_894  \n",
      "919   POLYGON ((-65.46880 18.08202, -65.46880 18.081...    PR_920  \n",
      "Number of unknown DESCRIPTOR dropped: 107\n"
     ]
    }
   ],
   "source": [
    "#drop descriptor unknown, not a whole lot of information\n",
    "df = df_combined.copy()\n",
    "print(df.query('ZONE == \"Unclassified\" and DESCRIPTOR == \"Unknown\"').head())\n",
    "t_df = df.query('DESCRIPTOR != \"Unknown\"')\n",
    "print('Number of unknown DESCRIPTOR dropped: {}' .format(len(df)-len(t_df)))"
   ]
  },
  {
   "cell_type": "code",
   "execution_count": 24,
   "metadata": {},
   "outputs": [
    {
     "name": "stdout",
     "output_type": "stream",
     "text": [
      "['Land' 'Seagrass/Patchy/30-50%' 'Mangrove' 'Seagrass/Patchy/70-90%'\n",
      " 'Reef/Colonized Bedrock' 'Reef/Patch Reef (Aggregated)'\n",
      " 'Seagrass/Patchy/10-30%' 'Mud']\n",
      "['Other Delineations' 'Submerged Vegetation'\n",
      " 'Coral Reef and Colonized Hardbottom' 'Unconsolidated Sediments']\n",
      "['Land' 'Seagrass' 'Mangrove' 'Colonized Bedrock'\n",
      " 'Patch Reef (Aggregated)' 'Mud']\n"
     ]
    }
   ],
   "source": [
    "#unclassified ZONE still have substantial info\n",
    "print(t_df.query('ZONE == \"Unclassified\"')['DESCRIPTOR'].unique())\n",
    "print(t_df.query('ZONE == \"Unclassified\"')['HABITAT'].unique())\n",
    "print(t_df.query('ZONE == \"Unclassified\"')['TYPE'].unique())"
   ]
  },
  {
   "cell_type": "code",
   "execution_count": 25,
   "metadata": {},
   "outputs": [
    {
     "data": {
      "text/html": [
       "<div>\n",
       "<style scoped>\n",
       "    .dataframe tbody tr th:only-of-type {\n",
       "        vertical-align: middle;\n",
       "    }\n",
       "\n",
       "    .dataframe tbody tr th {\n",
       "        vertical-align: top;\n",
       "    }\n",
       "\n",
       "    .dataframe thead th {\n",
       "        text-align: right;\n",
       "    }\n",
       "</style>\n",
       "<table border=\"1\" class=\"dataframe\">\n",
       "  <thead>\n",
       "    <tr style=\"text-align: right;\">\n",
       "      <th></th>\n",
       "      <th>AREA</th>\n",
       "      <th>DESCRIPTOR</th>\n",
       "      <th>ZONE</th>\n",
       "      <th>HABITAT</th>\n",
       "      <th>TYPE</th>\n",
       "      <th>geometry</th>\n",
       "      <th>polyid</th>\n",
       "    </tr>\n",
       "    <tr>\n",
       "      <th>polyid</th>\n",
       "      <th></th>\n",
       "      <th></th>\n",
       "      <th></th>\n",
       "      <th></th>\n",
       "      <th></th>\n",
       "      <th></th>\n",
       "      <th></th>\n",
       "    </tr>\n",
       "  </thead>\n",
       "  <tbody>\n",
       "    <tr>\n",
       "      <th>STJ_1</th>\n",
       "      <td>6445.33</td>\n",
       "      <td>Sand</td>\n",
       "      <td>Bank/Shelf</td>\n",
       "      <td>Unconsolidated Sediments</td>\n",
       "      <td>Sand</td>\n",
       "      <td>POLYGON ((-64.80970 18.36644, -64.80955 18.366...</td>\n",
       "      <td>STJ_1</td>\n",
       "    </tr>\n",
       "    <tr>\n",
       "      <th>STJ_2</th>\n",
       "      <td>47409.30</td>\n",
       "      <td>Sand</td>\n",
       "      <td>Bank/Shelf</td>\n",
       "      <td>Unconsolidated Sediments</td>\n",
       "      <td>Sand</td>\n",
       "      <td>POLYGON ((-64.80417 18.35974, -64.80419 18.359...</td>\n",
       "      <td>STJ_2</td>\n",
       "    </tr>\n",
       "    <tr>\n",
       "      <th>STJ_3</th>\n",
       "      <td>44504.30</td>\n",
       "      <td>Reef/Scattered Coral-Rock</td>\n",
       "      <td>Bank/Shelf</td>\n",
       "      <td>Coral Reef and Colonized Hardbottom</td>\n",
       "      <td>Scattered Coral/Rock in Unconsolidated</td>\n",
       "      <td>POLYGON ((-64.81332 18.35635, -64.81342 18.356...</td>\n",
       "      <td>STJ_3</td>\n",
       "    </tr>\n",
       "    <tr>\n",
       "      <th>STJ_4</th>\n",
       "      <td>5698.10</td>\n",
       "      <td>Reef/Scattered Coral-Rock</td>\n",
       "      <td>Bank/Shelf</td>\n",
       "      <td>Coral Reef and Colonized Hardbottom</td>\n",
       "      <td>Scattered Coral/Rock in Unconsolidated</td>\n",
       "      <td>POLYGON ((-64.81626 18.34365, -64.81617 18.344...</td>\n",
       "      <td>STJ_4</td>\n",
       "    </tr>\n",
       "    <tr>\n",
       "      <th>STJ_5</th>\n",
       "      <td>24547.68</td>\n",
       "      <td>Reef/Linear Reef</td>\n",
       "      <td>Forereef</td>\n",
       "      <td>Coral Reef and Colonized Hardbottom</td>\n",
       "      <td>Linear Reef</td>\n",
       "      <td>POLYGON ((-64.79880 18.35579, -64.79875 18.355...</td>\n",
       "      <td>STJ_5</td>\n",
       "    </tr>\n",
       "  </tbody>\n",
       "</table>\n",
       "</div>"
      ],
      "text/plain": [
       "            AREA                 DESCRIPTOR        ZONE  \\\n",
       "polyid                                                    \n",
       "STJ_1    6445.33                       Sand  Bank/Shelf   \n",
       "STJ_2   47409.30                       Sand  Bank/Shelf   \n",
       "STJ_3   44504.30  Reef/Scattered Coral-Rock  Bank/Shelf   \n",
       "STJ_4    5698.10  Reef/Scattered Coral-Rock  Bank/Shelf   \n",
       "STJ_5   24547.68           Reef/Linear Reef    Forereef   \n",
       "\n",
       "                                    HABITAT  \\\n",
       "polyid                                        \n",
       "STJ_1              Unconsolidated Sediments   \n",
       "STJ_2              Unconsolidated Sediments   \n",
       "STJ_3   Coral Reef and Colonized Hardbottom   \n",
       "STJ_4   Coral Reef and Colonized Hardbottom   \n",
       "STJ_5   Coral Reef and Colonized Hardbottom   \n",
       "\n",
       "                                          TYPE  \\\n",
       "polyid                                           \n",
       "STJ_1                                     Sand   \n",
       "STJ_2                                     Sand   \n",
       "STJ_3   Scattered Coral/Rock in Unconsolidated   \n",
       "STJ_4   Scattered Coral/Rock in Unconsolidated   \n",
       "STJ_5                              Linear Reef   \n",
       "\n",
       "                                                 geometry polyid  \n",
       "polyid                                                            \n",
       "STJ_1   POLYGON ((-64.80970 18.36644, -64.80955 18.366...  STJ_1  \n",
       "STJ_2   POLYGON ((-64.80417 18.35974, -64.80419 18.359...  STJ_2  \n",
       "STJ_3   POLYGON ((-64.81332 18.35635, -64.81342 18.356...  STJ_3  \n",
       "STJ_4   POLYGON ((-64.81626 18.34365, -64.81617 18.344...  STJ_4  \n",
       "STJ_5   POLYGON ((-64.79880 18.35579, -64.79875 18.355...  STJ_5  "
      ]
     },
     "execution_count": 25,
     "metadata": {},
     "output_type": "execute_result"
    }
   ],
   "source": [
    "#Set index to polygonid, drop unused columns\n",
    "df = t_df.copy()\n",
    "df.set_index('polyid', inplace = True, drop = False)\n",
    "df.head()"
   ]
  },
  {
   "cell_type": "code",
   "execution_count": 26,
   "metadata": {},
   "outputs": [
    {
     "name": "stdout",
     "output_type": "stream",
     "text": [
      "(7384, 7)\n"
     ]
    }
   ],
   "source": [
    "#Drop land for analysis\n",
    "df = df.query('DESCRIPTOR != \"Land\"').copy()\n",
    "print(df.shape)"
   ]
  },
  {
   "cell_type": "code",
   "execution_count": 27,
   "metadata": {},
   "outputs": [
    {
     "data": {
      "text/html": [
       "<div>\n",
       "<style scoped>\n",
       "    .dataframe tbody tr th:only-of-type {\n",
       "        vertical-align: middle;\n",
       "    }\n",
       "\n",
       "    .dataframe tbody tr th {\n",
       "        vertical-align: top;\n",
       "    }\n",
       "\n",
       "    .dataframe thead th {\n",
       "        text-align: right;\n",
       "    }\n",
       "</style>\n",
       "<table border=\"1\" class=\"dataframe\">\n",
       "  <thead>\n",
       "    <tr style=\"text-align: right;\">\n",
       "      <th></th>\n",
       "      <th>Latitude</th>\n",
       "      <th>Longitude</th>\n",
       "      <th>Accuracy</th>\n",
       "      <th>Drainage Name</th>\n",
       "      <th>Year</th>\n",
       "      <th>Month</th>\n",
       "      <th>Day</th>\n",
       "    </tr>\n",
       "  </thead>\n",
       "  <tbody>\n",
       "    <tr>\n",
       "      <th>452</th>\n",
       "      <td>18.49583</td>\n",
       "      <td>-64.41333</td>\n",
       "      <td>Accurate</td>\n",
       "      <td>Eastern Caribbean</td>\n",
       "      <td>2015</td>\n",
       "      <td>2.0</td>\n",
       "      <td>7.0</td>\n",
       "    </tr>\n",
       "    <tr>\n",
       "      <th>453</th>\n",
       "      <td>18.48016</td>\n",
       "      <td>-64.41737</td>\n",
       "      <td>Approximate</td>\n",
       "      <td>Eastern Caribbean</td>\n",
       "      <td>2013</td>\n",
       "      <td>7.0</td>\n",
       "      <td>21.0</td>\n",
       "    </tr>\n",
       "    <tr>\n",
       "      <th>454</th>\n",
       "      <td>18.48491</td>\n",
       "      <td>-64.41457</td>\n",
       "      <td>Accurate</td>\n",
       "      <td>Eastern Caribbean</td>\n",
       "      <td>2015</td>\n",
       "      <td>4.0</td>\n",
       "      <td>27.0</td>\n",
       "    </tr>\n",
       "    <tr>\n",
       "      <th>455</th>\n",
       "      <td>18.43258</td>\n",
       "      <td>-64.44406</td>\n",
       "      <td>Approximate</td>\n",
       "      <td>Eastern Caribbean</td>\n",
       "      <td>2016</td>\n",
       "      <td>3.0</td>\n",
       "      <td>29.0</td>\n",
       "    </tr>\n",
       "    <tr>\n",
       "      <th>456</th>\n",
       "      <td>18.43252</td>\n",
       "      <td>-64.44510</td>\n",
       "      <td>Approximate</td>\n",
       "      <td>Eastern Caribbean</td>\n",
       "      <td>2016</td>\n",
       "      <td>1.0</td>\n",
       "      <td>2.0</td>\n",
       "    </tr>\n",
       "  </tbody>\n",
       "</table>\n",
       "</div>"
      ],
      "text/plain": [
       "     Latitude  Longitude     Accuracy      Drainage Name  Year  Month   Day\n",
       "452  18.49583  -64.41333     Accurate  Eastern Caribbean  2015    2.0   7.0\n",
       "453  18.48016  -64.41737  Approximate  Eastern Caribbean  2013    7.0  21.0\n",
       "454  18.48491  -64.41457     Accurate  Eastern Caribbean  2015    4.0  27.0\n",
       "455  18.43258  -64.44406  Approximate  Eastern Caribbean  2016    3.0  29.0\n",
       "456  18.43252  -64.44510  Approximate  Eastern Caribbean  2016    1.0   2.0"
      ]
     },
     "execution_count": 27,
     "metadata": {},
     "output_type": "execute_result"
    }
   ],
   "source": [
    "#ref 2 lionfish reported data\n",
    "lf_df = pd.read_csv('../data/raw/NAS-Data-Download.csv')\n",
    "cols = ['Latitude', 'Longitude', 'Accuracy', 'Drainage Name', 'Year', 'Month', 'Day'] \n",
    "lf_df = lf_df[cols]\n",
    "min_lon, max_lon, min_lat, max_lat = -68.0, -64.4, 17.55, 18.6 #StThomas, StJohn, PR\n",
    "lf_df = lf_df.query('Longitude > {} and Longitude < {} and Latitude > {} and Latitude < {}' .format(min_lon,\n",
    "                                                                                                    max_lon,\n",
    "                                                                                                    min_lat,\n",
    "                                                                                                    max_lat)).reset_index(drop = True)\n",
    "lf_df.tail()"
   ]
  },
  {
   "cell_type": "code",
   "execution_count": 28,
   "metadata": {
    "collapsed": true
   },
   "outputs": [],
   "source": [
    "#make lat/lon combo feature\n",
    "lat_lon = [(i[1][1], i[1][0]) for i in lf_df[['Latitude', 'Longitude']].iterrows()]\n",
    "lf_df['lat_lon'] = lat_lon"
   ]
  },
  {
   "cell_type": "code",
   "execution_count": 30,
   "metadata": {
    "collapsed": true
   },
   "outputs": [],
   "source": [
    "#find polygons with LF, NOTE: exceptions lie outside benthic mapping (may be useable with some work)\n",
    "polygonids = []\n",
    "exceptions = []\n",
    "def check_point(point):\n",
    "    t_point = Point(point)\n",
    "    t = df[:].geometry.apply(lambda x: x.contains(t_point))\n",
    "    try:\n",
    "        if t.value_counts()[True] == 1:\n",
    "            idx = np.argmax(t)\n",
    "            polygonids.append(df.iloc[idx]['polyid'])\n",
    "    except:\n",
    "        exceptions.append(point)\n",
    "_ = lf_df['lat_lon'][:].apply(check_point)"
   ]
  },
  {
   "cell_type": "code",
   "execution_count": 31,
   "metadata": {},
   "outputs": [
    {
     "name": "stdout",
     "output_type": "stream",
     "text": [
      "311\n"
     ]
    }
   ],
   "source": [
    "#count of 311\n",
    "print(len(polygonids))\n",
    "assert len(polygonids) == 311"
   ]
  },
  {
   "cell_type": "code",
   "execution_count": 32,
   "metadata": {
    "collapsed": true
   },
   "outputs": [],
   "source": [
    "#add LF count to polygonid\n",
    "counts = Counter(polygonids)\n",
    "zeros = np.zeros_like(df['ZONE'])\n",
    "df['num_lf'] = zeros\n",
    "for k, value in counts.items():\n",
    "    k = str(k)\n",
    "    df.loc[k, 'num_lf'] = value"
   ]
  },
  {
   "cell_type": "code",
   "execution_count": 33,
   "metadata": {},
   "outputs": [
    {
     "data": {
      "text/html": [
       "<div>\n",
       "<style scoped>\n",
       "    .dataframe tbody tr th:only-of-type {\n",
       "        vertical-align: middle;\n",
       "    }\n",
       "\n",
       "    .dataframe tbody tr th {\n",
       "        vertical-align: top;\n",
       "    }\n",
       "\n",
       "    .dataframe thead th {\n",
       "        text-align: right;\n",
       "    }\n",
       "</style>\n",
       "<table border=\"1\" class=\"dataframe\">\n",
       "  <thead>\n",
       "    <tr style=\"text-align: right;\">\n",
       "      <th></th>\n",
       "      <th>AREA</th>\n",
       "      <th>DESCRIPTOR</th>\n",
       "      <th>ZONE</th>\n",
       "      <th>HABITAT</th>\n",
       "      <th>TYPE</th>\n",
       "      <th>geometry</th>\n",
       "      <th>polyid</th>\n",
       "      <th>num_lf</th>\n",
       "    </tr>\n",
       "    <tr>\n",
       "      <th>polyid</th>\n",
       "      <th></th>\n",
       "      <th></th>\n",
       "      <th></th>\n",
       "      <th></th>\n",
       "      <th></th>\n",
       "      <th></th>\n",
       "      <th></th>\n",
       "      <th></th>\n",
       "    </tr>\n",
       "  </thead>\n",
       "  <tbody>\n",
       "    <tr>\n",
       "      <th>STJ_1</th>\n",
       "      <td>6445.33</td>\n",
       "      <td>Sand</td>\n",
       "      <td>Bank/Shelf</td>\n",
       "      <td>Unconsolidated Sediments</td>\n",
       "      <td>Sand</td>\n",
       "      <td>POLYGON ((-64.80970 18.36644, -64.80955 18.366...</td>\n",
       "      <td>STJ_1</td>\n",
       "      <td>0</td>\n",
       "    </tr>\n",
       "    <tr>\n",
       "      <th>STJ_2</th>\n",
       "      <td>47409.30</td>\n",
       "      <td>Sand</td>\n",
       "      <td>Bank/Shelf</td>\n",
       "      <td>Unconsolidated Sediments</td>\n",
       "      <td>Sand</td>\n",
       "      <td>POLYGON ((-64.80417 18.35974, -64.80419 18.359...</td>\n",
       "      <td>STJ_2</td>\n",
       "      <td>0</td>\n",
       "    </tr>\n",
       "    <tr>\n",
       "      <th>STJ_3</th>\n",
       "      <td>44504.30</td>\n",
       "      <td>Reef/Scattered Coral-Rock</td>\n",
       "      <td>Bank/Shelf</td>\n",
       "      <td>Coral Reef and Colonized Hardbottom</td>\n",
       "      <td>Scattered Coral/Rock in Unconsolidated</td>\n",
       "      <td>POLYGON ((-64.81332 18.35635, -64.81342 18.356...</td>\n",
       "      <td>STJ_3</td>\n",
       "      <td>0</td>\n",
       "    </tr>\n",
       "    <tr>\n",
       "      <th>STJ_4</th>\n",
       "      <td>5698.10</td>\n",
       "      <td>Reef/Scattered Coral-Rock</td>\n",
       "      <td>Bank/Shelf</td>\n",
       "      <td>Coral Reef and Colonized Hardbottom</td>\n",
       "      <td>Scattered Coral/Rock in Unconsolidated</td>\n",
       "      <td>POLYGON ((-64.81626 18.34365, -64.81617 18.344...</td>\n",
       "      <td>STJ_4</td>\n",
       "      <td>0</td>\n",
       "    </tr>\n",
       "    <tr>\n",
       "      <th>STJ_5</th>\n",
       "      <td>24547.68</td>\n",
       "      <td>Reef/Linear Reef</td>\n",
       "      <td>Forereef</td>\n",
       "      <td>Coral Reef and Colonized Hardbottom</td>\n",
       "      <td>Linear Reef</td>\n",
       "      <td>POLYGON ((-64.79880 18.35579, -64.79875 18.355...</td>\n",
       "      <td>STJ_5</td>\n",
       "      <td>0</td>\n",
       "    </tr>\n",
       "  </tbody>\n",
       "</table>\n",
       "</div>"
      ],
      "text/plain": [
       "            AREA                 DESCRIPTOR        ZONE  \\\n",
       "polyid                                                    \n",
       "STJ_1    6445.33                       Sand  Bank/Shelf   \n",
       "STJ_2   47409.30                       Sand  Bank/Shelf   \n",
       "STJ_3   44504.30  Reef/Scattered Coral-Rock  Bank/Shelf   \n",
       "STJ_4    5698.10  Reef/Scattered Coral-Rock  Bank/Shelf   \n",
       "STJ_5   24547.68           Reef/Linear Reef    Forereef   \n",
       "\n",
       "                                    HABITAT  \\\n",
       "polyid                                        \n",
       "STJ_1              Unconsolidated Sediments   \n",
       "STJ_2              Unconsolidated Sediments   \n",
       "STJ_3   Coral Reef and Colonized Hardbottom   \n",
       "STJ_4   Coral Reef and Colonized Hardbottom   \n",
       "STJ_5   Coral Reef and Colonized Hardbottom   \n",
       "\n",
       "                                          TYPE  \\\n",
       "polyid                                           \n",
       "STJ_1                                     Sand   \n",
       "STJ_2                                     Sand   \n",
       "STJ_3   Scattered Coral/Rock in Unconsolidated   \n",
       "STJ_4   Scattered Coral/Rock in Unconsolidated   \n",
       "STJ_5                              Linear Reef   \n",
       "\n",
       "                                                 geometry polyid num_lf  \n",
       "polyid                                                                   \n",
       "STJ_1   POLYGON ((-64.80970 18.36644, -64.80955 18.366...  STJ_1      0  \n",
       "STJ_2   POLYGON ((-64.80417 18.35974, -64.80419 18.359...  STJ_2      0  \n",
       "STJ_3   POLYGON ((-64.81332 18.35635, -64.81342 18.356...  STJ_3      0  \n",
       "STJ_4   POLYGON ((-64.81626 18.34365, -64.81617 18.344...  STJ_4      0  \n",
       "STJ_5   POLYGON ((-64.79880 18.35579, -64.79875 18.355...  STJ_5      0  "
      ]
     },
     "execution_count": 33,
     "metadata": {},
     "output_type": "execute_result"
    }
   ],
   "source": [
    "df.head()"
   ]
  },
  {
   "cell_type": "code",
   "execution_count": 34,
   "metadata": {},
   "outputs": [
    {
     "data": {
      "text/html": [
       "<div>\n",
       "<style scoped>\n",
       "    .dataframe tbody tr th:only-of-type {\n",
       "        vertical-align: middle;\n",
       "    }\n",
       "\n",
       "    .dataframe tbody tr th {\n",
       "        vertical-align: top;\n",
       "    }\n",
       "\n",
       "    .dataframe thead th {\n",
       "        text-align: right;\n",
       "    }\n",
       "</style>\n",
       "<table border=\"1\" class=\"dataframe\">\n",
       "  <thead>\n",
       "    <tr style=\"text-align: right;\">\n",
       "      <th></th>\n",
       "      <th>AREA</th>\n",
       "      <th>DESCRIPTOR</th>\n",
       "      <th>ZONE</th>\n",
       "      <th>HABITAT</th>\n",
       "      <th>TYPE</th>\n",
       "      <th>polyid</th>\n",
       "      <th>num_lf</th>\n",
       "    </tr>\n",
       "    <tr>\n",
       "      <th>polyid</th>\n",
       "      <th></th>\n",
       "      <th></th>\n",
       "      <th></th>\n",
       "      <th></th>\n",
       "      <th></th>\n",
       "      <th></th>\n",
       "      <th></th>\n",
       "    </tr>\n",
       "  </thead>\n",
       "  <tbody>\n",
       "    <tr>\n",
       "      <th>STJ_1</th>\n",
       "      <td>6445.33</td>\n",
       "      <td>Sand</td>\n",
       "      <td>Bank/Shelf</td>\n",
       "      <td>Unconsolidated Sediments</td>\n",
       "      <td>Sand</td>\n",
       "      <td>STJ_1</td>\n",
       "      <td>0</td>\n",
       "    </tr>\n",
       "    <tr>\n",
       "      <th>STJ_2</th>\n",
       "      <td>47409.30</td>\n",
       "      <td>Sand</td>\n",
       "      <td>Bank/Shelf</td>\n",
       "      <td>Unconsolidated Sediments</td>\n",
       "      <td>Sand</td>\n",
       "      <td>STJ_2</td>\n",
       "      <td>0</td>\n",
       "    </tr>\n",
       "    <tr>\n",
       "      <th>STJ_3</th>\n",
       "      <td>44504.30</td>\n",
       "      <td>Reef/Scattered Coral-Rock</td>\n",
       "      <td>Bank/Shelf</td>\n",
       "      <td>Coral Reef and Colonized Hardbottom</td>\n",
       "      <td>Scattered Coral/Rock in Unconsolidated</td>\n",
       "      <td>STJ_3</td>\n",
       "      <td>0</td>\n",
       "    </tr>\n",
       "    <tr>\n",
       "      <th>STJ_4</th>\n",
       "      <td>5698.10</td>\n",
       "      <td>Reef/Scattered Coral-Rock</td>\n",
       "      <td>Bank/Shelf</td>\n",
       "      <td>Coral Reef and Colonized Hardbottom</td>\n",
       "      <td>Scattered Coral/Rock in Unconsolidated</td>\n",
       "      <td>STJ_4</td>\n",
       "      <td>0</td>\n",
       "    </tr>\n",
       "    <tr>\n",
       "      <th>STJ_5</th>\n",
       "      <td>24547.68</td>\n",
       "      <td>Reef/Linear Reef</td>\n",
       "      <td>Forereef</td>\n",
       "      <td>Coral Reef and Colonized Hardbottom</td>\n",
       "      <td>Linear Reef</td>\n",
       "      <td>STJ_5</td>\n",
       "      <td>0</td>\n",
       "    </tr>\n",
       "  </tbody>\n",
       "</table>\n",
       "</div>"
      ],
      "text/plain": [
       "            AREA                 DESCRIPTOR        ZONE  \\\n",
       "polyid                                                    \n",
       "STJ_1    6445.33                       Sand  Bank/Shelf   \n",
       "STJ_2   47409.30                       Sand  Bank/Shelf   \n",
       "STJ_3   44504.30  Reef/Scattered Coral-Rock  Bank/Shelf   \n",
       "STJ_4    5698.10  Reef/Scattered Coral-Rock  Bank/Shelf   \n",
       "STJ_5   24547.68           Reef/Linear Reef    Forereef   \n",
       "\n",
       "                                    HABITAT  \\\n",
       "polyid                                        \n",
       "STJ_1              Unconsolidated Sediments   \n",
       "STJ_2              Unconsolidated Sediments   \n",
       "STJ_3   Coral Reef and Colonized Hardbottom   \n",
       "STJ_4   Coral Reef and Colonized Hardbottom   \n",
       "STJ_5   Coral Reef and Colonized Hardbottom   \n",
       "\n",
       "                                          TYPE polyid num_lf  \n",
       "polyid                                                        \n",
       "STJ_1                                     Sand  STJ_1      0  \n",
       "STJ_2                                     Sand  STJ_2      0  \n",
       "STJ_3   Scattered Coral/Rock in Unconsolidated  STJ_3      0  \n",
       "STJ_4   Scattered Coral/Rock in Unconsolidated  STJ_4      0  \n",
       "STJ_5                              Linear Reef  STJ_5      0  "
      ]
     },
     "execution_count": 34,
     "metadata": {},
     "output_type": "execute_result"
    }
   ],
   "source": [
    "df.drop('geometry', axis = 1, inplace = True)\n",
    "df.head()"
   ]
  },
  {
   "cell_type": "code",
   "execution_count": 35,
   "metadata": {},
   "outputs": [
    {
     "data": {
      "text/html": [
       "<div>\n",
       "<style scoped>\n",
       "    .dataframe tbody tr th:only-of-type {\n",
       "        vertical-align: middle;\n",
       "    }\n",
       "\n",
       "    .dataframe tbody tr th {\n",
       "        vertical-align: top;\n",
       "    }\n",
       "\n",
       "    .dataframe thead th {\n",
       "        text-align: right;\n",
       "    }\n",
       "</style>\n",
       "<table border=\"1\" class=\"dataframe\">\n",
       "  <thead>\n",
       "    <tr style=\"text-align: right;\">\n",
       "      <th></th>\n",
       "      <th>Latitude</th>\n",
       "      <th>Longitude</th>\n",
       "      <th>Accuracy</th>\n",
       "      <th>Drainage Name</th>\n",
       "      <th>Year</th>\n",
       "      <th>Month</th>\n",
       "      <th>Day</th>\n",
       "      <th>lat_lon</th>\n",
       "    </tr>\n",
       "  </thead>\n",
       "  <tbody>\n",
       "    <tr>\n",
       "      <th>0</th>\n",
       "      <td>18.433820</td>\n",
       "      <td>-64.444990</td>\n",
       "      <td>Accurate</td>\n",
       "      <td>Eastern Caribbean</td>\n",
       "      <td>2022</td>\n",
       "      <td>2.0</td>\n",
       "      <td>27.0</td>\n",
       "      <td>(-64.44499, 18.43382)</td>\n",
       "    </tr>\n",
       "    <tr>\n",
       "      <th>1</th>\n",
       "      <td>18.051071</td>\n",
       "      <td>-67.908004</td>\n",
       "      <td>Accurate</td>\n",
       "      <td>Greater Antilles</td>\n",
       "      <td>2010</td>\n",
       "      <td>1.0</td>\n",
       "      <td>10.0</td>\n",
       "      <td>(-67.908004, 18.051071)</td>\n",
       "    </tr>\n",
       "    <tr>\n",
       "      <th>2</th>\n",
       "      <td>18.112100</td>\n",
       "      <td>-67.934000</td>\n",
       "      <td>Accurate</td>\n",
       "      <td>Greater Antilles</td>\n",
       "      <td>2009</td>\n",
       "      <td>4.0</td>\n",
       "      <td>5.0</td>\n",
       "      <td>(-67.934, 18.1121)</td>\n",
       "    </tr>\n",
       "    <tr>\n",
       "      <th>3</th>\n",
       "      <td>17.938900</td>\n",
       "      <td>-67.023100</td>\n",
       "      <td>Approximate</td>\n",
       "      <td>Greater Antilles</td>\n",
       "      <td>2009</td>\n",
       "      <td>5.0</td>\n",
       "      <td>15.0</td>\n",
       "      <td>(-67.0231, 17.9389)</td>\n",
       "    </tr>\n",
       "    <tr>\n",
       "      <th>4</th>\n",
       "      <td>17.965800</td>\n",
       "      <td>-66.761600</td>\n",
       "      <td>Accurate</td>\n",
       "      <td>Greater Antilles</td>\n",
       "      <td>2010</td>\n",
       "      <td>6.0</td>\n",
       "      <td>6.0</td>\n",
       "      <td>(-66.7616, 17.9658)</td>\n",
       "    </tr>\n",
       "  </tbody>\n",
       "</table>\n",
       "</div>"
      ],
      "text/plain": [
       "    Latitude  Longitude     Accuracy      Drainage Name  Year  Month   Day  \\\n",
       "0  18.433820 -64.444990     Accurate  Eastern Caribbean  2022    2.0  27.0   \n",
       "1  18.051071 -67.908004     Accurate   Greater Antilles  2010    1.0  10.0   \n",
       "2  18.112100 -67.934000     Accurate   Greater Antilles  2009    4.0   5.0   \n",
       "3  17.938900 -67.023100  Approximate   Greater Antilles  2009    5.0  15.0   \n",
       "4  17.965800 -66.761600     Accurate   Greater Antilles  2010    6.0   6.0   \n",
       "\n",
       "                   lat_lon  \n",
       "0    (-64.44499, 18.43382)  \n",
       "1  (-67.908004, 18.051071)  \n",
       "2       (-67.934, 18.1121)  \n",
       "3      (-67.0231, 17.9389)  \n",
       "4      (-66.7616, 17.9658)  "
      ]
     },
     "execution_count": 35,
     "metadata": {},
     "output_type": "execute_result"
    }
   ],
   "source": [
    "lf_df.head()"
   ]
  },
  {
   "cell_type": "code",
   "execution_count": 21,
   "metadata": {
    "collapsed": true
   },
   "outputs": [],
   "source": [
    "lf_df.to_csv('../data/processed/lion_fish.csv', index = False)\n",
    "df.to_csv('../data/processed/combined_df.csv', index = False)"
   ]
  },
  {
   "cell_type": "code",
   "execution_count": null,
   "metadata": {
    "collapsed": true
   },
   "outputs": [],
   "source": []
  }
 ],
 "metadata": {
  "kernelspec": {
   "display_name": "Python [conda env:py_3]",
   "language": "python",
   "name": "conda-env-py_3-py"
  },
  "language_info": {
   "codemirror_mode": {
    "name": "ipython",
    "version": 3
   },
   "file_extension": ".py",
   "mimetype": "text/x-python",
   "name": "python",
   "nbconvert_exporter": "python",
   "pygments_lexer": "ipython3",
   "version": "3.7.13"
  }
 },
 "nbformat": 4,
 "nbformat_minor": 5
}
